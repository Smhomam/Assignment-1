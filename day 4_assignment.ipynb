{
 "cells": [
  {
   "cell_type": "markdown",
   "metadata": {},
   "source": [
    "# Capstone Project Phase 1:"
   ]
  },
  {
   "cell_type": "markdown",
   "metadata": {},
   "source": [
    "# Assignment 1: Build the team & other logistics [3 Points]"
   ]
  },
  {
   "cell_type": "markdown",
   "metadata": {},
   "source": [
    "1. Find members, make team.\n",
    "2. Select team lead and create one github repository per team for project.\n",
    "3. Create Readme.MD file and put name of your teammates. Submit the repository link."
   ]
  },
  {
   "cell_type": "markdown",
   "metadata": {},
   "source": [
    "# Assignment 2: Pick Problem Statement & Dataset [5 Points]"
   ]
  },
  {
   "cell_type": "markdown",
   "metadata": {},
   "source": [
    "1. Define your problem statement. (tentative, can be changed in future)\n",
    "2. Find the dataset for your project.\n",
    "3. Add details of problem statement & dataset link to your github readme file."
   ]
  },
  {
   "cell_type": "markdown",
   "metadata": {},
   "source": [
    "# Python Pandas Assignment:"
   ]
  },
  {
   "cell_type": "code",
   "execution_count": 23,
   "metadata": {},
   "outputs": [
    {
     "data": {
      "text/html": [
       "<div>\n",
       "<style scoped>\n",
       "    .dataframe tbody tr th:only-of-type {\n",
       "        vertical-align: middle;\n",
       "    }\n",
       "\n",
       "    .dataframe tbody tr th {\n",
       "        vertical-align: top;\n",
       "    }\n",
       "\n",
       "    .dataframe thead th {\n",
       "        text-align: right;\n",
       "    }\n",
       "</style>\n",
       "<table border=\"1\" class=\"dataframe\">\n",
       "  <thead>\n",
       "    <tr style=\"text-align: right;\">\n",
       "      <th></th>\n",
       "      <th>a</th>\n",
       "      <th>b</th>\n",
       "      <th>c</th>\n",
       "      <th>d</th>\n",
       "    </tr>\n",
       "  </thead>\n",
       "  <tbody>\n",
       "    <tr>\n",
       "      <th>101</th>\n",
       "      <td>One</td>\n",
       "      <td>1</td>\n",
       "      <td>1.196627</td>\n",
       "      <td>1.589080</td>\n",
       "    </tr>\n",
       "    <tr>\n",
       "      <th>102</th>\n",
       "      <td>Three</td>\n",
       "      <td>1</td>\n",
       "      <td>1.679766</td>\n",
       "      <td>1.826866</td>\n",
       "    </tr>\n",
       "    <tr>\n",
       "      <th>103</th>\n",
       "      <td>Three</td>\n",
       "      <td>1</td>\n",
       "      <td>1.749908</td>\n",
       "      <td>1.211056</td>\n",
       "    </tr>\n",
       "    <tr>\n",
       "      <th>104</th>\n",
       "      <td>Two</td>\n",
       "      <td>1</td>\n",
       "      <td>1.141017</td>\n",
       "      <td>1.171182</td>\n",
       "    </tr>\n",
       "    <tr>\n",
       "      <th>105</th>\n",
       "      <td>Three</td>\n",
       "      <td>1</td>\n",
       "      <td>1.783137</td>\n",
       "      <td>1.892348</td>\n",
       "    </tr>\n",
       "    <tr>\n",
       "      <th>106</th>\n",
       "      <td>Three</td>\n",
       "      <td>1</td>\n",
       "      <td>1.931085</td>\n",
       "      <td>1.397097</td>\n",
       "    </tr>\n",
       "    <tr>\n",
       "      <th>107</th>\n",
       "      <td>Two</td>\n",
       "      <td>1</td>\n",
       "      <td>1.341460</td>\n",
       "      <td>1.115891</td>\n",
       "    </tr>\n",
       "    <tr>\n",
       "      <th>108</th>\n",
       "      <td>One</td>\n",
       "      <td>1</td>\n",
       "      <td>1.083139</td>\n",
       "      <td>1.474855</td>\n",
       "    </tr>\n",
       "    <tr>\n",
       "      <th>109</th>\n",
       "      <td>Two</td>\n",
       "      <td>1</td>\n",
       "      <td>1.989144</td>\n",
       "      <td>1.736795</td>\n",
       "    </tr>\n",
       "    <tr>\n",
       "      <th>110</th>\n",
       "      <td>Three</td>\n",
       "      <td>1</td>\n",
       "      <td>1.749549</td>\n",
       "      <td>1.753576</td>\n",
       "    </tr>\n",
       "  </tbody>\n",
       "</table>\n",
       "</div>"
      ],
      "text/plain": [
       "         a  b         c         d\n",
       "101    One  1  1.196627  1.589080\n",
       "102  Three  1  1.679766  1.826866\n",
       "103  Three  1  1.749908  1.211056\n",
       "104    Two  1  1.141017  1.171182\n",
       "105  Three  1  1.783137  1.892348\n",
       "106  Three  1  1.931085  1.397097\n",
       "107    Two  1  1.341460  1.115891\n",
       "108    One  1  1.083139  1.474855\n",
       "109    Two  1  1.989144  1.736795\n",
       "110  Three  1  1.749549  1.753576"
      ]
     },
     "execution_count": 23,
     "metadata": {},
     "output_type": "execute_result"
    }
   ],
   "source": [
    "# Problem: Create dataframe with custom row index & column name. The dimension should be 10x4. \n",
    "#    Custom Index should start from 101 to 110. column name should be `a` to `d`. \n",
    "#    `a` should be strings, `b` should be numbers, `c` & 'd' should be float.\n",
    "#     fill up random values using numpy.random.  [4 Points]\n",
    "import pandas as pd\n",
    "import numpy as np\n",
    "\n",
    "df= pd.DataFrame({'a': np.random.choice(['One', 'Two', 'Three'], 10),\n",
    "                 'b':np.random.randint(1,2,10),\n",
    "                 'c':np.random.uniform(1.0,2.0,10),\n",
    "                 'd':np.random.uniform(1.0,2.0,10)},index=range(101,111))\n",
    "    # TODO: Implement rest 3 columns \n",
    "df"
   ]
  },
  {
   "cell_type": "code",
   "execution_count": 24,
   "metadata": {},
   "outputs": [
    {
     "data": {
      "text/html": [
       "<div>\n",
       "<style scoped>\n",
       "    .dataframe tbody tr th:only-of-type {\n",
       "        vertical-align: middle;\n",
       "    }\n",
       "\n",
       "    .dataframe tbody tr th {\n",
       "        vertical-align: top;\n",
       "    }\n",
       "\n",
       "    .dataframe thead th {\n",
       "        text-align: right;\n",
       "    }\n",
       "</style>\n",
       "<table border=\"1\" class=\"dataframe\">\n",
       "  <thead>\n",
       "    <tr style=\"text-align: right;\">\n",
       "      <th></th>\n",
       "      <th>a</th>\n",
       "      <th>b</th>\n",
       "      <th>c</th>\n",
       "      <th>d</th>\n",
       "    </tr>\n",
       "  </thead>\n",
       "  <tbody>\n",
       "    <tr>\n",
       "      <th>103</th>\n",
       "      <td>Three</td>\n",
       "      <td>1</td>\n",
       "      <td>1.749908</td>\n",
       "      <td>1.211056</td>\n",
       "    </tr>\n",
       "    <tr>\n",
       "      <th>104</th>\n",
       "      <td>Two</td>\n",
       "      <td>1</td>\n",
       "      <td>1.141017</td>\n",
       "      <td>1.171182</td>\n",
       "    </tr>\n",
       "    <tr>\n",
       "      <th>105</th>\n",
       "      <td>Three</td>\n",
       "      <td>1</td>\n",
       "      <td>1.783137</td>\n",
       "      <td>1.892348</td>\n",
       "    </tr>\n",
       "    <tr>\n",
       "      <th>106</th>\n",
       "      <td>Three</td>\n",
       "      <td>1</td>\n",
       "      <td>1.931085</td>\n",
       "      <td>1.397097</td>\n",
       "    </tr>\n",
       "    <tr>\n",
       "      <th>107</th>\n",
       "      <td>Two</td>\n",
       "      <td>1</td>\n",
       "      <td>1.341460</td>\n",
       "      <td>1.115891</td>\n",
       "    </tr>\n",
       "    <tr>\n",
       "      <th>108</th>\n",
       "      <td>One</td>\n",
       "      <td>1</td>\n",
       "      <td>1.083139</td>\n",
       "      <td>1.474855</td>\n",
       "    </tr>\n",
       "  </tbody>\n",
       "</table>\n",
       "</div>"
      ],
      "text/plain": [
       "         a  b         c         d\n",
       "103  Three  1  1.749908  1.211056\n",
       "104    Two  1  1.141017  1.171182\n",
       "105  Three  1  1.783137  1.892348\n",
       "106  Three  1  1.931085  1.397097\n",
       "107    Two  1  1.341460  1.115891\n",
       "108    One  1  1.083139  1.474855"
      ]
     },
     "execution_count": 24,
     "metadata": {},
     "output_type": "execute_result"
    }
   ],
   "source": [
    "# Problem: Use the original dataframe to create another dataframe that has rows from index 103 to 108. [1 Points]\n",
    "df=df.loc[103:108]\n",
    "df"
   ]
  },
  {
   "cell_type": "code",
   "execution_count": 25,
   "metadata": {},
   "outputs": [
    {
     "data": {
      "text/html": [
       "<div>\n",
       "<style scoped>\n",
       "    .dataframe tbody tr th:only-of-type {\n",
       "        vertical-align: middle;\n",
       "    }\n",
       "\n",
       "    .dataframe tbody tr th {\n",
       "        vertical-align: top;\n",
       "    }\n",
       "\n",
       "    .dataframe thead th {\n",
       "        text-align: right;\n",
       "    }\n",
       "</style>\n",
       "<table border=\"1\" class=\"dataframe\">\n",
       "  <thead>\n",
       "    <tr style=\"text-align: right;\">\n",
       "      <th></th>\n",
       "      <th>a</th>\n",
       "      <th>b</th>\n",
       "      <th>c</th>\n",
       "      <th>d</th>\n",
       "    </tr>\n",
       "  </thead>\n",
       "  <tbody>\n",
       "    <tr>\n",
       "      <th>104</th>\n",
       "      <td>Two</td>\n",
       "      <td>1</td>\n",
       "      <td>1.141017</td>\n",
       "      <td>1.171182</td>\n",
       "    </tr>\n",
       "    <tr>\n",
       "      <th>105</th>\n",
       "      <td>Three</td>\n",
       "      <td>1</td>\n",
       "      <td>1.783137</td>\n",
       "      <td>1.892348</td>\n",
       "    </tr>\n",
       "    <tr>\n",
       "      <th>106</th>\n",
       "      <td>Three</td>\n",
       "      <td>1</td>\n",
       "      <td>1.931085</td>\n",
       "      <td>1.397097</td>\n",
       "    </tr>\n",
       "    <tr>\n",
       "      <th>107</th>\n",
       "      <td>Two</td>\n",
       "      <td>1</td>\n",
       "      <td>1.341460</td>\n",
       "      <td>1.115891</td>\n",
       "    </tr>\n",
       "  </tbody>\n",
       "</table>\n",
       "</div>"
      ],
      "text/plain": [
       "         a  b         c         d\n",
       "104    Two  1  1.141017  1.171182\n",
       "105  Three  1  1.783137  1.892348\n",
       "106  Three  1  1.931085  1.397097\n",
       "107    Two  1  1.341460  1.115891"
      ]
     },
     "execution_count": 25,
     "metadata": {},
     "output_type": "execute_result"
    }
   ],
   "source": [
    "# Problem: Use the original dataframe to create another dataframe that does not have first and last row [1 Points]\n",
    "\n",
    "df0=df.tail(5)\n",
    "df1=df0.head(4)\n",
    "df1"
   ]
  },
  {
   "cell_type": "code",
   "execution_count": 29,
   "metadata": {},
   "outputs": [
    {
     "data": {
      "text/plain": [
       "103    Three\n",
       "104      Two\n",
       "105    Three\n",
       "106    Three\n",
       "107      Two\n",
       "108      One\n",
       "Name: a, dtype: object"
      ]
     },
     "execution_count": 29,
     "metadata": {},
     "output_type": "execute_result"
    }
   ],
   "source": [
    "# Problem: Group and print orignal dataframe by column `a`\n",
    "df.loc[:, 'a']"
   ]
  },
  {
   "cell_type": "code",
   "execution_count": 27,
   "metadata": {},
   "outputs": [
    {
     "data": {
      "text/html": [
       "<div>\n",
       "<style scoped>\n",
       "    .dataframe tbody tr th:only-of-type {\n",
       "        vertical-align: middle;\n",
       "    }\n",
       "\n",
       "    .dataframe tbody tr th {\n",
       "        vertical-align: top;\n",
       "    }\n",
       "\n",
       "    .dataframe thead th {\n",
       "        text-align: right;\n",
       "    }\n",
       "</style>\n",
       "<table border=\"1\" class=\"dataframe\">\n",
       "  <thead>\n",
       "    <tr style=\"text-align: right;\">\n",
       "      <th></th>\n",
       "      <th>a</th>\n",
       "      <th>b</th>\n",
       "      <th>c</th>\n",
       "      <th>d</th>\n",
       "    </tr>\n",
       "  </thead>\n",
       "  <tbody>\n",
       "    <tr>\n",
       "      <th>104</th>\n",
       "      <td>Two</td>\n",
       "      <td>1</td>\n",
       "      <td>1.141017</td>\n",
       "      <td>1.171182</td>\n",
       "    </tr>\n",
       "    <tr>\n",
       "      <th>105</th>\n",
       "      <td>Three</td>\n",
       "      <td>1</td>\n",
       "      <td>1.783137</td>\n",
       "      <td>1.892348</td>\n",
       "    </tr>\n",
       "    <tr>\n",
       "      <th>106</th>\n",
       "      <td>Three</td>\n",
       "      <td>1</td>\n",
       "      <td>1.931085</td>\n",
       "      <td>1.397097</td>\n",
       "    </tr>\n",
       "    <tr>\n",
       "      <th>107</th>\n",
       "      <td>Two</td>\n",
       "      <td>1</td>\n",
       "      <td>1.341460</td>\n",
       "      <td>1.115891</td>\n",
       "    </tr>\n",
       "  </tbody>\n",
       "</table>\n",
       "</div>"
      ],
      "text/plain": [
       "         a  b         c         d\n",
       "104    Two  1  1.141017  1.171182\n",
       "105  Three  1  1.783137  1.892348\n",
       "106  Three  1  1.931085  1.397097\n",
       "107    Two  1  1.341460  1.115891"
      ]
     },
     "execution_count": 27,
     "metadata": {},
     "output_type": "execute_result"
    }
   ],
   "source": [
    "# Problem: Use the orginal dataframe and drop first and last column [1 Points]\n",
    "Drop=df.drop(103)\n",
    "Drop.drop(108)"
   ]
  },
  {
   "cell_type": "code",
   "execution_count": null,
   "metadata": {},
   "outputs": [],
   "source": []
  }
 ],
 "metadata": {
  "kernelspec": {
   "display_name": "Python 3",
   "language": "python",
   "name": "python3"
  },
  "language_info": {
   "codemirror_mode": {
    "name": "ipython",
    "version": 3
   },
   "file_extension": ".py",
   "mimetype": "text/x-python",
   "name": "python",
   "nbconvert_exporter": "python",
   "pygments_lexer": "ipython3",
   "version": "3.7.6"
  }
 },
 "nbformat": 4,
 "nbformat_minor": 4
}
