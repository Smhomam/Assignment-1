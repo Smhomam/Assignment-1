{
 "cells": [
  {
   "cell_type": "markdown",
   "metadata": {},
   "source": [
    "# Module 1: OOP"
   ]
  },
  {
   "cell_type": "code",
   "execution_count": null,
   "metadata": {},
   "outputs": [],
   "source": [
    "# Problem: Design classes where one is parent & other is child. let child call the parent method. [2 Points]\n",
    "class parent:\n",
    "    def run_parent_method(self):\n",
    "        return \"This is parent method\"\n",
    "\n",
    "class child(parent):\n",
    "    def run_child_method(self):\n",
    "        return \"This is child method\"\n",
    "    \n",
    "def main():\n",
    "    Child().run_parent_method()\n",
    "    Child().run_child_method()\n",
    "main()\n",
    "\n",
    "assert Child().run_parent_method() == \"This is parent method\"\n",
    "assert Child().run_child_method() == \"This is child method\""
   ]
  },
  {
   "cell_type": "code",
   "execution_count": null,
   "metadata": {},
   "outputs": [],
   "source": [
    "# Problem: add private varible for unique id that stores genearted uuid.\n",
    "#          write mechanism to access that variable for class instance object.\n",
    "#          you can use `str(uuid.uuid4())` to generate uuid    [4 Points]\n",
    "import uuid\n",
    "\n",
    "class Employee:\n",
    "    \n",
    "    def __init__(self, name, birth_year):\n",
    "        \n",
    "        self.name = name\n",
    "        self.birth_year = birth_year\n",
    "        self.__uuid=str(uuid.uuid4())\n",
    "        \n",
    "    def getUuid(self):\n",
    "        return(self.__uuid)\n",
    "\n",
    "emp = Employee(\"Foo\", 1998)\n",
    "generated_uuid = emp.getUuid() # replace NoImplemented with provate variable\n",
    "assert isinstance(generated_uuid, str)"
   ]
  },
  {
   "cell_type": "markdown",
   "metadata": {},
   "source": [
    "# Module 2: Iterables"
   ]
  },
  {
   "cell_type": "code",
   "execution_count": null,
   "metadata": {},
   "outputs": [],
   "source": [
    "# Problem: Implement __iter__() and next() method for following class [6 Points]\n",
    "class SquareIterator:\n",
    "    def __init__(self, limit):\n",
    "        self.limit = limit\n",
    "        self.n = 0\n",
    "    \n",
    "    def __iter__(self):\n",
    "        #TODO: implement this\n",
    "        self.x=0 \n",
    "        return self\n",
    "    \n",
    "    # for python3 compatibility\n",
    "    def __next__(self):\n",
    "        return self.next()\n",
    "    \n",
    "    def next(self):\n",
    "        #TODO: implement this\n",
    "        x=self.x\n",
    "        if x > self.limit: \n",
    "            raise StopIteration\n",
    "        self.x=x**2;\n",
    "        return x\n",
    "\n",
    "        \n",
    "sq_itr1 = SquareIterator(5)\n",
    "assert list(sq_itr1) == [0, 1, 4, 9, 16]\n",
    "\n",
    "sq_itr1 = SquareIterator(101)\n",
    "assert sum(sq_itr1) == 338350 \n",
    "    "
   ]
  },
  {
   "cell_type": "code",
   "execution_count": null,
   "metadata": {},
   "outputs": [],
   "source": [
    "# Problem: Create student objects with provided list of name and enrollment id using Zip [4 Points]\n",
    "class Student:\n",
    " def __init__(self, data):\n",
    "        # TODO: implement this\n",
    "        zipm=zip(names,enrollments)\n",
    "        print(zipm)\n",
    "\n",
    "names = [\"Rahul\", \"Shyam\", \"Krupa\", \"Aakash\"]\n",
    "enrollments = [1122, 2345, 1456, 2295]\n",
    "\n",
    "students = []\n",
    "#TODO: implement loop here\n",
    "for i in range(0,4):\n",
    "    students.append(Student(names[i],enrollments[i]))\n",
    "\n",
    "assert len(students) == 4\n",
    "assert (students[0].name, students[0].roll) == (\"Rahul\", 1122)"
   ]
  },
  {
   "cell_type": "markdown",
   "metadata": {},
   "source": [
    "# Module 3: Data Processing"
   ]
  },
  {
   "cell_type": "code",
   "execution_count": null,
   "metadata": {},
   "outputs": [],
   "source": [
    "import numpy as np\n",
    "np.random.seed(40)"
   ]
  },
  {
   "cell_type": "code",
   "execution_count": null,
   "metadata": {},
   "outputs": [],
   "source": [
    "# Problem: create random integer numpy array with shape (30, 20) and values between 500 & 15000  [2 Points]\n",
    "\n",
    "import random\n",
    "\n",
    "np_array = np.random.randint(500,15000, size=600).reshape(30,20)\n",
    "print(np_array)"
   ]
  },
  {
   "cell_type": "code",
   "execution_count": 13,
   "metadata": {},
   "outputs": [
    {
     "name": "stdout",
     "output_type": "stream",
     "text": [
      "Min: 549\n",
      "Max: 14999\n",
      "Mean: 7189.026666666667\n",
      "Median: 7167.5\n",
      "Standard Deviation: 4065.7599075640896\n"
     ]
    }
   ],
   "source": [
    "# Problem: use the array created above an compute following: min, max, mean, median, standard deviation [2 Points]\n",
    "\n",
    "print(\"Min:\",np_array.min())\n",
    "print(\"Max:\",np_array.max())\n",
    "print(\"Mean:\",np_array.mean())\n",
    "print(\"Median:\",np.median(np_array))\n",
    "print(\"Standard Deviation:\",np.std(np_array))"
   ]
  },
  {
   "cell_type": "code",
   "execution_count": 18,
   "metadata": {},
   "outputs": [
    {
     "data": {
      "text/html": [
       "<div>\n",
       "<style scoped>\n",
       "    .dataframe tbody tr th:only-of-type {\n",
       "        vertical-align: middle;\n",
       "    }\n",
       "\n",
       "    .dataframe tbody tr th {\n",
       "        vertical-align: top;\n",
       "    }\n",
       "\n",
       "    .dataframe thead th {\n",
       "        text-align: right;\n",
       "    }\n",
       "</style>\n",
       "<table border=\"1\" class=\"dataframe\">\n",
       "  <thead>\n",
       "    <tr style=\"text-align: right;\">\n",
       "      <th></th>\n",
       "      <th>Name</th>\n",
       "      <th>Age</th>\n",
       "      <th>Rating</th>\n",
       "    </tr>\n",
       "  </thead>\n",
       "  <tbody>\n",
       "    <tr>\n",
       "      <th>0</th>\n",
       "      <td>Jack</td>\n",
       "      <td>14</td>\n",
       "      <td>8</td>\n",
       "    </tr>\n",
       "    <tr>\n",
       "      <th>1</th>\n",
       "      <td>And</td>\n",
       "      <td>10</td>\n",
       "      <td>2</td>\n",
       "    </tr>\n",
       "    <tr>\n",
       "      <th>2</th>\n",
       "      <td>Jill</td>\n",
       "      <td>13</td>\n",
       "      <td>8</td>\n",
       "    </tr>\n",
       "    <tr>\n",
       "      <th>3</th>\n",
       "      <td>Went</td>\n",
       "      <td>10</td>\n",
       "      <td>5</td>\n",
       "    </tr>\n",
       "    <tr>\n",
       "      <th>4</th>\n",
       "      <td>Up</td>\n",
       "      <td>8</td>\n",
       "      <td>7</td>\n",
       "    </tr>\n",
       "    <tr>\n",
       "      <th>5</th>\n",
       "      <td>Hill</td>\n",
       "      <td>22</td>\n",
       "      <td>7</td>\n",
       "    </tr>\n",
       "    <tr>\n",
       "      <th>6</th>\n",
       "      <td>Poem</td>\n",
       "      <td>30</td>\n",
       "      <td>9</td>\n",
       "    </tr>\n",
       "  </tbody>\n",
       "</table>\n",
       "</div>"
      ],
      "text/plain": [
       "   Name  Age  Rating\n",
       "0  Jack   14       8\n",
       "1   And   10       2\n",
       "2  Jill   13       8\n",
       "3  Went   10       5\n",
       "4    Up    8       7\n",
       "5  Hill   22       7\n",
       "6  Poem   30       9"
      ]
     },
     "execution_count": 18,
     "metadata": {},
     "output_type": "execute_result"
    }
   ],
   "source": [
    "# Problem: create pandas dataframe with three columns & seven rows. \n",
    "# Name, Age & Rating. Name: Person's name, Age: Person's age, Rating: credit rating out of 10    [3 Points]\n",
    "import pandas as pd\n",
    "data=[['Jack',14,8],['And',10,2],['Jill',13,8],['Went',10,5],['Up',8,7],['Hill',22,7],['Poem',30,9]]\n",
    "df = pd.DataFrame(data,columns=['Name','Age','Rating'])\n",
    "df"
   ]
  },
  {
   "cell_type": "code",
   "execution_count": null,
   "metadata": {},
   "outputs": [],
   "source": [
    "# use the abouve dataframe and answer following question\n",
    "# what is average age & rating in dataframe  [1 Points]\n",
    "# Give the name for people who has rating more than average [1 Points]\n",
    "# Give the name for person who is oldest [1 Points]\n",
    "\n",
    "# Average age and Rating\n",
    "print('Average Age:',df['Age'].mean())\n",
    "print('Average Rating:',df['Rating'].mean())\n",
    "# Name for people who has rating more than average\n",
    "names=[]\n",
    "avg=df['Rating'].mean()\n",
    "for i in df['Rating']:\n",
    "    if i>avg:\n",
    "        name.append(i)\n",
    "print(names)\n",
    "# Name for person who is oldest\n",
    "print('Oldest Person:',df['Age'].max())"
   ]
  },
  {
   "cell_type": "code",
   "execution_count": null,
   "metadata": {},
   "outputs": [],
   "source": []
  }
 ],
 "metadata": {
  "kernelspec": {
   "display_name": "Python 3",
   "language": "python",
   "name": "python3"
  },
  "language_info": {
   "codemirror_mode": {
    "name": "ipython",
    "version": 3
   },
   "file_extension": ".py",
   "mimetype": "text/x-python",
   "name": "python",
   "nbconvert_exporter": "python",
   "pygments_lexer": "ipython3",
   "version": "3.7.6"
  }
 },
 "nbformat": 4,
 "nbformat_minor": 4
}
